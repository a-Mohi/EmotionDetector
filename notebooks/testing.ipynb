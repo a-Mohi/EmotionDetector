{
 "cells": [
  {
   "metadata": {
    "ExecuteTime": {
     "end_time": "2025-09-17T20:35:38.959034Z",
     "start_time": "2025-09-17T20:35:36.924055Z"
    }
   },
   "cell_type": "code",
   "source": [
    "import tensorflow as tf\n",
    "import os\n",
    "import cv2\n",
    "from matplotlib import pyplot as plt\n",
    "import imghdr\n",
    "import numpy as np"
   ],
   "id": "82232843c8c741c7",
   "outputs": [
    {
     "name": "stderr",
     "output_type": "stream",
     "text": [
      "C:\\Users\\ammar\\AppData\\Local\\Temp\\ipykernel_17568\\1140302781.py:5: DeprecationWarning: imghdr was removed in Python 3.13. Please be aware that you are currently NOT using standard 'imghdr', but instead a separately installed 'standard-imghdr'.\n",
      "  import imghdr\n"
     ]
    }
   ],
   "execution_count": 1
  },
  {
   "metadata": {
    "ExecuteTime": {
     "end_time": "2025-09-17T20:35:39.070768Z",
     "start_time": "2025-09-17T20:35:39.069003Z"
    }
   },
   "cell_type": "code",
   "source": [
    "data_dir = '../data'\n",
    "#os.listdir(os.path.join('data', 'happy'))"
   ],
   "id": "22cb502ca2a59020",
   "outputs": [],
   "execution_count": 2
  },
  {
   "metadata": {
    "ExecuteTime": {
     "end_time": "2025-09-17T20:35:39.078643Z",
     "start_time": "2025-09-17T20:35:39.076863Z"
    }
   },
   "cell_type": "code",
   "source": "image_exts = ['jpeg', 'png', 'bmp', 'jpg']",
   "id": "98abaa4c014cf8bf",
   "outputs": [],
   "execution_count": 3
  },
  {
   "metadata": {
    "ExecuteTime": {
     "end_time": "2025-09-17T20:35:39.108407Z",
     "start_time": "2025-09-17T20:35:39.106735Z"
    }
   },
   "cell_type": "code",
   "source": [
    "#img = cv2.imread(os.path.join(data_dir, 'sad', 'Crying-girl.jpg'))\n",
    "#plt.imshow(img)\n",
    "#plt.imshow(cv2.cvtColor(img, cv2.COLOR_BGR2RGB))"
   ],
   "id": "360cf39c23c2bb37",
   "outputs": [],
   "execution_count": 4
  },
  {
   "metadata": {
    "ExecuteTime": {
     "end_time": "2025-09-17T20:35:40.309701Z",
     "start_time": "2025-09-17T20:35:39.114421Z"
    }
   },
   "cell_type": "code",
   "source": [
    "for image_class in os.listdir(data_dir):\n",
    "    for image in os.listdir(os.path.join(data_dir, image_class)):\n",
    "        image_path = os.path.join(data_dir, image_class, image)\n",
    "        try:\n",
    "            img = cv2.imread(image_path)\n",
    "            tip = imghdr.what(image_path)\n",
    "            if tip not in image_exts:\n",
    "                print(\"Image not in extension list {}\".format(image_path))\n",
    "                os.remove(image_path)\n",
    "        except Exception as e:\n",
    "             print(\"Image not in extension list {}\".format(image_path))"
   ],
   "id": "3c8bb9b65055730b",
   "outputs": [],
   "execution_count": 5
  },
  {
   "metadata": {
    "ExecuteTime": {
     "end_time": "2025-09-17T20:35:40.406740Z",
     "start_time": "2025-09-17T20:35:40.316245Z"
    }
   },
   "cell_type": "code",
   "source": [
    "# 1. Create a dataset of file paths\n",
    "#data_dir = 'data'\n",
    "patterns = [os.path.join(data_dir, f'*/*.{ext}') for ext in image_exts ]\n",
    "image_paths = tf.data.Dataset.list_files(patterns, shuffle=True)\n",
    "\n",
    "# Get the total number of images for splitting\n",
    "num_images = tf.data.experimental.cardinality(image_paths).numpy() #Returns the number of elements (file paths) in the image_paths dataset\n",
    "print(f\"Found {num_images} images.\")\n",
    "\n",
    "# 2. Create a function to load and process each image\n",
    "class_list = []\n",
    "for item in os.listdir(data_dir):\n",
    "    if os.path.isdir(os.path.join(data_dir, item)):\n",
    "        class_list.append(item)\n",
    "CLASS_NAMES = np.array(class_list)\n",
    "\n",
    "def process_path(file_path):\n",
    "    # Get label from the folder name\n",
    "    label = tf.strings.split(file_path, os.path.sep)[-2] == CLASS_NAMES\n",
    "    label = tf.argmax(label)\n",
    "\n",
    "    # Load and decode the image\n",
    "    img = tf.io.read_file(file_path)\n",
    "    img = tf.io.decode_image(img, channels=3)\n",
    "    img.set_shape([None, None, 3])\n",
    "\n",
    "    # Resize and scale the image (scaling is now included here)\n",
    "    img = tf.image.resize(img, [256, 256])\n",
    "    img = img / 255.0\n",
    "\n",
    "    return img, label\n",
    "\n",
    "# 3. Create the main labeled dataset\n",
    "labeled_data = image_paths.map(process_path, num_parallel_calls=tf.data.AUTOTUNE)\n",
    "\n",
    "# 4. Split the data\n",
    "train_size = int(num_images * 0.7)\n",
    "val_size = int(num_images * 0.2)\n",
    "test_size = num_images - train_size - val_size #\n",
    "\n",
    "train = labeled_data.take(train_size)\n",
    "val = labeled_data.skip(train_size).take(val_size)\n",
    "test = labeled_data.skip(train_size + val_size).take(test_size)\n",
    "\n",
    "# 5. Apply batching and prefetching for performance\n",
    "BATCH_SIZE = 32 #\n",
    "train = train.batch(BATCH_SIZE).prefetch(tf.data.AUTOTUNE)\n",
    "val = val.batch(BATCH_SIZE).prefetch(tf.data.AUTOTUNE)\n",
    "test = test.batch(BATCH_SIZE).prefetch(tf.data.AUTOTUNE)"
   ],
   "id": "c1f7fbe4c6463fd",
   "outputs": [
    {
     "name": "stdout",
     "output_type": "stream",
     "text": [
      "Found 166 images.\n"
     ]
    }
   ],
   "execution_count": 6
  },
  {
   "metadata": {
    "ExecuteTime": {
     "end_time": "2025-09-17T20:35:40.416287Z",
     "start_time": "2025-09-17T20:35:40.414563Z"
    }
   },
   "cell_type": "code",
   "source": "#data = tf.keras.utils.image_dataset_from_directory('data')",
   "id": "3c21fe6acf6f6830",
   "outputs": [],
   "execution_count": 7
  },
  {
   "metadata": {
    "ExecuteTime": {
     "end_time": "2025-09-17T20:35:40.433667Z",
     "start_time": "2025-09-17T20:35:40.431892Z"
    }
   },
   "cell_type": "code",
   "source": [
    "#data_iterator = data.as_numpy_iterator()\n",
    "#batch = data_iterator.next()\n",
    "#batch[0].max()"
   ],
   "id": "e5b1333245fbfcf7",
   "outputs": [],
   "execution_count": 8
  },
  {
   "metadata": {
    "ExecuteTime": {
     "end_time": "2025-09-17T20:35:40.449042Z",
     "start_time": "2025-09-17T20:35:40.447287Z"
    }
   },
   "cell_type": "code",
   "source": [
    "# fig, ax = plt.subplots(ncols=4, figsize=(20,20))\n",
    "# for idx, img in enumerate(batch[0][:4]):\n",
    "#     ax[idx].imshow(img.astype(int))\n",
    "#     ax[idx].title.set_text(batch[1][idx])"
   ],
   "id": "5a2b08a1daed8f0",
   "outputs": [],
   "execution_count": 9
  },
  {
   "metadata": {},
   "cell_type": "markdown",
   "source": "Scaling",
   "id": "929a41c5c7f2b2e6"
  },
  {
   "metadata": {
    "ExecuteTime": {
     "end_time": "2025-09-17T20:35:40.465071Z",
     "start_time": "2025-09-17T20:35:40.462806Z"
    }
   },
   "cell_type": "code",
   "source": "#data = data.map(lambda x, y : (x/255, y))",
   "id": "dda3a4d054ec40f7",
   "outputs": [],
   "execution_count": 10
  },
  {
   "metadata": {
    "ExecuteTime": {
     "end_time": "2025-09-17T20:35:40.480426Z",
     "start_time": "2025-09-17T20:35:40.478886Z"
    }
   },
   "cell_type": "code",
   "source": [
    "#data_iterator = data.as_numpy_iterator()\n",
    "#batch = data_iterator.next()"
   ],
   "id": "450b3bae5ff33204",
   "outputs": [],
   "execution_count": 11
  },
  {
   "metadata": {
    "ExecuteTime": {
     "end_time": "2025-09-17T20:35:40.491663Z",
     "start_time": "2025-09-17T20:35:40.489794Z"
    }
   },
   "cell_type": "code",
   "source": "#batch[0].max()",
   "id": "7508a4f2bd2cedc4",
   "outputs": [],
   "execution_count": 12
  },
  {
   "metadata": {
    "ExecuteTime": {
     "end_time": "2025-09-17T20:35:40.505908Z",
     "start_time": "2025-09-17T20:35:40.503834Z"
    }
   },
   "cell_type": "code",
   "source": [
    "# fig, ax = plt.subplots(ncols=5, figsize=(20,20))\n",
    "# for idx, img in enumerate(batch[0][:5]):\n",
    "#     ax[idx].imshow(img)\n",
    "#     ax[idx].title.set_text(batch[1][idx])"
   ],
   "id": "6d431194f1f1a12d",
   "outputs": [],
   "execution_count": 13
  },
  {
   "metadata": {
    "ExecuteTime": {
     "end_time": "2025-09-17T20:35:40.526570Z",
     "start_time": "2025-09-17T20:35:40.524967Z"
    }
   },
   "cell_type": "code",
   "source": "# len(data)",
   "id": "6516530ff7084640",
   "outputs": [],
   "execution_count": 14
  },
  {
   "metadata": {
    "ExecuteTime": {
     "end_time": "2025-09-17T20:35:40.542837Z",
     "start_time": "2025-09-17T20:35:40.541199Z"
    }
   },
   "cell_type": "code",
   "source": [
    "# train_size = int(len(data)*.7)\n",
    "# val_size = int(len(data)*.2)\n",
    "# test_size = int(len(data)*.2)"
   ],
   "id": "6ae509b4e41bccf6",
   "outputs": [],
   "execution_count": 15
  },
  {
   "metadata": {
    "ExecuteTime": {
     "end_time": "2025-09-17T20:35:40.558186Z",
     "start_time": "2025-09-17T20:35:40.556367Z"
    }
   },
   "cell_type": "code",
   "source": "# test_size+train_size+val_size",
   "id": "6b1a5195b9568d62",
   "outputs": [],
   "execution_count": 16
  },
  {
   "metadata": {
    "ExecuteTime": {
     "end_time": "2025-09-17T20:35:40.573409Z",
     "start_time": "2025-09-17T20:35:40.571817Z"
    }
   },
   "cell_type": "code",
   "source": [
    "# train = data.take(train_size)\n",
    "# val = data.skip(train_size).take(val_size)\n",
    "# test = data.skip(train_size+val_size).take(test_size)"
   ],
   "id": "677c85726e8bb658",
   "outputs": [],
   "execution_count": 17
  },
  {
   "metadata": {},
   "cell_type": "markdown",
   "source": "Model",
   "id": "972b5f56145e8541"
  },
  {
   "metadata": {
    "ExecuteTime": {
     "end_time": "2025-09-17T20:35:40.589857Z",
     "start_time": "2025-09-17T20:35:40.586466Z"
    }
   },
   "cell_type": "code",
   "source": [
    "from tensorflow.keras.models import Sequential\n",
    "from tensorflow.keras.layers import Conv2D, MaxPooling2D, Dense, Flatten"
   ],
   "id": "79be60ced2c3f307",
   "outputs": [],
   "execution_count": 18
  },
  {
   "metadata": {
    "ExecuteTime": {
     "end_time": "2025-09-17T20:35:40.604287Z",
     "start_time": "2025-09-17T20:35:40.601869Z"
    }
   },
   "cell_type": "code",
   "source": "model = Sequential()",
   "id": "2e986d8c5bdbd100",
   "outputs": [],
   "execution_count": 19
  },
  {
   "metadata": {
    "ExecuteTime": {
     "end_time": "2025-09-17T20:35:40.657892Z",
     "start_time": "2025-09-17T20:35:40.617514Z"
    }
   },
   "cell_type": "code",
   "source": [
    "model.add(Conv2D(16,(3,3),1, activation='relu', input_shape=(256, 256, 3)))\n",
    "model.add(MaxPooling2D())\n",
    "model.add(Conv2D(32, (3,3), 1, activation='relu'))\n",
    "model.add(MaxPooling2D())\n",
    "model.add(Conv2D(16, (3,3), 1, activation='relu'))\n",
    "model.add(MaxPooling2D())\n",
    "model.add(Flatten())\n",
    "model.add(Dense(256, activation='relu'))\n",
    "model.add(Dense(1, activation='sigmoid'))"
   ],
   "id": "181b04e5bbd86b4c",
   "outputs": [
    {
     "name": "stderr",
     "output_type": "stream",
     "text": [
      "C:\\Users\\ammar\\PycharmProjects\\JupyterProject\\.venv\\Lib\\site-packages\\keras\\src\\layers\\convolutional\\base_conv.py:113: UserWarning: Do not pass an `input_shape`/`input_dim` argument to a layer. When using Sequential models, prefer using an `Input(shape)` object as the first layer in the model instead.\n",
      "  super().__init__(activity_regularizer=activity_regularizer, **kwargs)\n"
     ]
    }
   ],
   "execution_count": 20
  },
  {
   "metadata": {
    "ExecuteTime": {
     "end_time": "2025-09-17T20:35:40.672078Z",
     "start_time": "2025-09-17T20:35:40.665709Z"
    }
   },
   "cell_type": "code",
   "source": "model.compile('adam', loss=tf.losses.BinaryCrossentropy(), metrics=['accuracy'])",
   "id": "16013e3dae81562c",
   "outputs": [],
   "execution_count": 21
  },
  {
   "metadata": {
    "ExecuteTime": {
     "end_time": "2025-09-17T20:35:40.692860Z",
     "start_time": "2025-09-17T20:35:40.679411Z"
    }
   },
   "cell_type": "code",
   "source": "model.summary()",
   "id": "a217d74930434d99",
   "outputs": [
    {
     "data": {
      "text/plain": [
       "\u001B[1mModel: \"sequential\"\u001B[0m\n"
      ],
      "text/html": [
       "<pre style=\"white-space:pre;overflow-x:auto;line-height:normal;font-family:Menlo,'DejaVu Sans Mono',consolas,'Courier New',monospace\"><span style=\"font-weight: bold\">Model: \"sequential\"</span>\n",
       "</pre>\n"
      ]
     },
     "metadata": {},
     "output_type": "display_data"
    },
    {
     "data": {
      "text/plain": [
       "┏━━━━━━━━━━━━━━━━━━━━━━━━━━━━━━━━━┳━━━━━━━━━━━━━━━━━━━━━━━━┳━━━━━━━━━━━━━━━┓\n",
       "┃\u001B[1m \u001B[0m\u001B[1mLayer (type)                   \u001B[0m\u001B[1m \u001B[0m┃\u001B[1m \u001B[0m\u001B[1mOutput Shape          \u001B[0m\u001B[1m \u001B[0m┃\u001B[1m \u001B[0m\u001B[1m      Param #\u001B[0m\u001B[1m \u001B[0m┃\n",
       "┡━━━━━━━━━━━━━━━━━━━━━━━━━━━━━━━━━╇━━━━━━━━━━━━━━━━━━━━━━━━╇━━━━━━━━━━━━━━━┩\n",
       "│ conv2d (\u001B[38;5;33mConv2D\u001B[0m)                 │ (\u001B[38;5;45mNone\u001B[0m, \u001B[38;5;34m254\u001B[0m, \u001B[38;5;34m254\u001B[0m, \u001B[38;5;34m16\u001B[0m)   │           \u001B[38;5;34m448\u001B[0m │\n",
       "├─────────────────────────────────┼────────────────────────┼───────────────┤\n",
       "│ max_pooling2d (\u001B[38;5;33mMaxPooling2D\u001B[0m)    │ (\u001B[38;5;45mNone\u001B[0m, \u001B[38;5;34m127\u001B[0m, \u001B[38;5;34m127\u001B[0m, \u001B[38;5;34m16\u001B[0m)   │             \u001B[38;5;34m0\u001B[0m │\n",
       "├─────────────────────────────────┼────────────────────────┼───────────────┤\n",
       "│ conv2d_1 (\u001B[38;5;33mConv2D\u001B[0m)               │ (\u001B[38;5;45mNone\u001B[0m, \u001B[38;5;34m125\u001B[0m, \u001B[38;5;34m125\u001B[0m, \u001B[38;5;34m32\u001B[0m)   │         \u001B[38;5;34m4,640\u001B[0m │\n",
       "├─────────────────────────────────┼────────────────────────┼───────────────┤\n",
       "│ max_pooling2d_1 (\u001B[38;5;33mMaxPooling2D\u001B[0m)  │ (\u001B[38;5;45mNone\u001B[0m, \u001B[38;5;34m62\u001B[0m, \u001B[38;5;34m62\u001B[0m, \u001B[38;5;34m32\u001B[0m)     │             \u001B[38;5;34m0\u001B[0m │\n",
       "├─────────────────────────────────┼────────────────────────┼───────────────┤\n",
       "│ conv2d_2 (\u001B[38;5;33mConv2D\u001B[0m)               │ (\u001B[38;5;45mNone\u001B[0m, \u001B[38;5;34m60\u001B[0m, \u001B[38;5;34m60\u001B[0m, \u001B[38;5;34m16\u001B[0m)     │         \u001B[38;5;34m4,624\u001B[0m │\n",
       "├─────────────────────────────────┼────────────────────────┼───────────────┤\n",
       "│ max_pooling2d_2 (\u001B[38;5;33mMaxPooling2D\u001B[0m)  │ (\u001B[38;5;45mNone\u001B[0m, \u001B[38;5;34m30\u001B[0m, \u001B[38;5;34m30\u001B[0m, \u001B[38;5;34m16\u001B[0m)     │             \u001B[38;5;34m0\u001B[0m │\n",
       "├─────────────────────────────────┼────────────────────────┼───────────────┤\n",
       "│ flatten (\u001B[38;5;33mFlatten\u001B[0m)               │ (\u001B[38;5;45mNone\u001B[0m, \u001B[38;5;34m14400\u001B[0m)          │             \u001B[38;5;34m0\u001B[0m │\n",
       "├─────────────────────────────────┼────────────────────────┼───────────────┤\n",
       "│ dense (\u001B[38;5;33mDense\u001B[0m)                   │ (\u001B[38;5;45mNone\u001B[0m, \u001B[38;5;34m256\u001B[0m)            │     \u001B[38;5;34m3,686,656\u001B[0m │\n",
       "├─────────────────────────────────┼────────────────────────┼───────────────┤\n",
       "│ dense_1 (\u001B[38;5;33mDense\u001B[0m)                 │ (\u001B[38;5;45mNone\u001B[0m, \u001B[38;5;34m1\u001B[0m)              │           \u001B[38;5;34m257\u001B[0m │\n",
       "└─────────────────────────────────┴────────────────────────┴───────────────┘\n"
      ],
      "text/html": [
       "<pre style=\"white-space:pre;overflow-x:auto;line-height:normal;font-family:Menlo,'DejaVu Sans Mono',consolas,'Courier New',monospace\">┏━━━━━━━━━━━━━━━━━━━━━━━━━━━━━━━━━┳━━━━━━━━━━━━━━━━━━━━━━━━┳━━━━━━━━━━━━━━━┓\n",
       "┃<span style=\"font-weight: bold\"> Layer (type)                    </span>┃<span style=\"font-weight: bold\"> Output Shape           </span>┃<span style=\"font-weight: bold\">       Param # </span>┃\n",
       "┡━━━━━━━━━━━━━━━━━━━━━━━━━━━━━━━━━╇━━━━━━━━━━━━━━━━━━━━━━━━╇━━━━━━━━━━━━━━━┩\n",
       "│ conv2d (<span style=\"color: #0087ff; text-decoration-color: #0087ff\">Conv2D</span>)                 │ (<span style=\"color: #00d7ff; text-decoration-color: #00d7ff\">None</span>, <span style=\"color: #00af00; text-decoration-color: #00af00\">254</span>, <span style=\"color: #00af00; text-decoration-color: #00af00\">254</span>, <span style=\"color: #00af00; text-decoration-color: #00af00\">16</span>)   │           <span style=\"color: #00af00; text-decoration-color: #00af00\">448</span> │\n",
       "├─────────────────────────────────┼────────────────────────┼───────────────┤\n",
       "│ max_pooling2d (<span style=\"color: #0087ff; text-decoration-color: #0087ff\">MaxPooling2D</span>)    │ (<span style=\"color: #00d7ff; text-decoration-color: #00d7ff\">None</span>, <span style=\"color: #00af00; text-decoration-color: #00af00\">127</span>, <span style=\"color: #00af00; text-decoration-color: #00af00\">127</span>, <span style=\"color: #00af00; text-decoration-color: #00af00\">16</span>)   │             <span style=\"color: #00af00; text-decoration-color: #00af00\">0</span> │\n",
       "├─────────────────────────────────┼────────────────────────┼───────────────┤\n",
       "│ conv2d_1 (<span style=\"color: #0087ff; text-decoration-color: #0087ff\">Conv2D</span>)               │ (<span style=\"color: #00d7ff; text-decoration-color: #00d7ff\">None</span>, <span style=\"color: #00af00; text-decoration-color: #00af00\">125</span>, <span style=\"color: #00af00; text-decoration-color: #00af00\">125</span>, <span style=\"color: #00af00; text-decoration-color: #00af00\">32</span>)   │         <span style=\"color: #00af00; text-decoration-color: #00af00\">4,640</span> │\n",
       "├─────────────────────────────────┼────────────────────────┼───────────────┤\n",
       "│ max_pooling2d_1 (<span style=\"color: #0087ff; text-decoration-color: #0087ff\">MaxPooling2D</span>)  │ (<span style=\"color: #00d7ff; text-decoration-color: #00d7ff\">None</span>, <span style=\"color: #00af00; text-decoration-color: #00af00\">62</span>, <span style=\"color: #00af00; text-decoration-color: #00af00\">62</span>, <span style=\"color: #00af00; text-decoration-color: #00af00\">32</span>)     │             <span style=\"color: #00af00; text-decoration-color: #00af00\">0</span> │\n",
       "├─────────────────────────────────┼────────────────────────┼───────────────┤\n",
       "│ conv2d_2 (<span style=\"color: #0087ff; text-decoration-color: #0087ff\">Conv2D</span>)               │ (<span style=\"color: #00d7ff; text-decoration-color: #00d7ff\">None</span>, <span style=\"color: #00af00; text-decoration-color: #00af00\">60</span>, <span style=\"color: #00af00; text-decoration-color: #00af00\">60</span>, <span style=\"color: #00af00; text-decoration-color: #00af00\">16</span>)     │         <span style=\"color: #00af00; text-decoration-color: #00af00\">4,624</span> │\n",
       "├─────────────────────────────────┼────────────────────────┼───────────────┤\n",
       "│ max_pooling2d_2 (<span style=\"color: #0087ff; text-decoration-color: #0087ff\">MaxPooling2D</span>)  │ (<span style=\"color: #00d7ff; text-decoration-color: #00d7ff\">None</span>, <span style=\"color: #00af00; text-decoration-color: #00af00\">30</span>, <span style=\"color: #00af00; text-decoration-color: #00af00\">30</span>, <span style=\"color: #00af00; text-decoration-color: #00af00\">16</span>)     │             <span style=\"color: #00af00; text-decoration-color: #00af00\">0</span> │\n",
       "├─────────────────────────────────┼────────────────────────┼───────────────┤\n",
       "│ flatten (<span style=\"color: #0087ff; text-decoration-color: #0087ff\">Flatten</span>)               │ (<span style=\"color: #00d7ff; text-decoration-color: #00d7ff\">None</span>, <span style=\"color: #00af00; text-decoration-color: #00af00\">14400</span>)          │             <span style=\"color: #00af00; text-decoration-color: #00af00\">0</span> │\n",
       "├─────────────────────────────────┼────────────────────────┼───────────────┤\n",
       "│ dense (<span style=\"color: #0087ff; text-decoration-color: #0087ff\">Dense</span>)                   │ (<span style=\"color: #00d7ff; text-decoration-color: #00d7ff\">None</span>, <span style=\"color: #00af00; text-decoration-color: #00af00\">256</span>)            │     <span style=\"color: #00af00; text-decoration-color: #00af00\">3,686,656</span> │\n",
       "├─────────────────────────────────┼────────────────────────┼───────────────┤\n",
       "│ dense_1 (<span style=\"color: #0087ff; text-decoration-color: #0087ff\">Dense</span>)                 │ (<span style=\"color: #00d7ff; text-decoration-color: #00d7ff\">None</span>, <span style=\"color: #00af00; text-decoration-color: #00af00\">1</span>)              │           <span style=\"color: #00af00; text-decoration-color: #00af00\">257</span> │\n",
       "└─────────────────────────────────┴────────────────────────┴───────────────┘\n",
       "</pre>\n"
      ]
     },
     "metadata": {},
     "output_type": "display_data"
    },
    {
     "data": {
      "text/plain": [
       "\u001B[1m Total params: \u001B[0m\u001B[38;5;34m3,696,625\u001B[0m (14.10 MB)\n"
      ],
      "text/html": [
       "<pre style=\"white-space:pre;overflow-x:auto;line-height:normal;font-family:Menlo,'DejaVu Sans Mono',consolas,'Courier New',monospace\"><span style=\"font-weight: bold\"> Total params: </span><span style=\"color: #00af00; text-decoration-color: #00af00\">3,696,625</span> (14.10 MB)\n",
       "</pre>\n"
      ]
     },
     "metadata": {},
     "output_type": "display_data"
    },
    {
     "data": {
      "text/plain": [
       "\u001B[1m Trainable params: \u001B[0m\u001B[38;5;34m3,696,625\u001B[0m (14.10 MB)\n"
      ],
      "text/html": [
       "<pre style=\"white-space:pre;overflow-x:auto;line-height:normal;font-family:Menlo,'DejaVu Sans Mono',consolas,'Courier New',monospace\"><span style=\"font-weight: bold\"> Trainable params: </span><span style=\"color: #00af00; text-decoration-color: #00af00\">3,696,625</span> (14.10 MB)\n",
       "</pre>\n"
      ]
     },
     "metadata": {},
     "output_type": "display_data"
    },
    {
     "data": {
      "text/plain": [
       "\u001B[1m Non-trainable params: \u001B[0m\u001B[38;5;34m0\u001B[0m (0.00 B)\n"
      ],
      "text/html": [
       "<pre style=\"white-space:pre;overflow-x:auto;line-height:normal;font-family:Menlo,'DejaVu Sans Mono',consolas,'Courier New',monospace\"><span style=\"font-weight: bold\"> Non-trainable params: </span><span style=\"color: #00af00; text-decoration-color: #00af00\">0</span> (0.00 B)\n",
       "</pre>\n"
      ]
     },
     "metadata": {},
     "output_type": "display_data"
    }
   ],
   "execution_count": 22
  },
  {
   "metadata": {
    "ExecuteTime": {
     "end_time": "2025-09-17T20:36:02.716999Z",
     "start_time": "2025-09-17T20:35:40.710718Z"
    }
   },
   "cell_type": "code",
   "source": "hist = model.fit(train, epochs=20, validation_data = val)",
   "id": "617f71685897b081",
   "outputs": [
    {
     "name": "stdout",
     "output_type": "stream",
     "text": [
      "Epoch 1/20\n",
      "\u001B[1m4/4\u001B[0m \u001B[32m━━━━━━━━━━━━━━━━━━━━\u001B[0m\u001B[37m\u001B[0m \u001B[1m2s\u001B[0m 346ms/step - accuracy: 0.5259 - loss: 1.7975 - val_accuracy: 0.3939 - val_loss: 1.0010\n",
      "Epoch 2/20\n",
      "\u001B[1m4/4\u001B[0m \u001B[32m━━━━━━━━━━━━━━━━━━━━\u001B[0m\u001B[37m\u001B[0m \u001B[1m1s\u001B[0m 294ms/step - accuracy: 0.5431 - loss: 0.7654 - val_accuracy: 0.5455 - val_loss: 0.7439\n",
      "Epoch 3/20\n",
      "\u001B[1m4/4\u001B[0m \u001B[32m━━━━━━━━━━━━━━━━━━━━\u001B[0m\u001B[37m\u001B[0m \u001B[1m1s\u001B[0m 216ms/step - accuracy: 0.6121 - loss: 0.6326 - val_accuracy: 0.6970 - val_loss: 0.5640\n",
      "Epoch 4/20\n",
      "\u001B[1m4/4\u001B[0m \u001B[32m━━━━━━━━━━━━━━━━━━━━\u001B[0m\u001B[37m\u001B[0m \u001B[1m1s\u001B[0m 273ms/step - accuracy: 0.6810 - loss: 0.5804 - val_accuracy: 0.7273 - val_loss: 0.4893\n",
      "Epoch 5/20\n",
      "\u001B[1m4/4\u001B[0m \u001B[32m━━━━━━━━━━━━━━━━━━━━\u001B[0m\u001B[37m\u001B[0m \u001B[1m1s\u001B[0m 290ms/step - accuracy: 0.6638 - loss: 0.6423 - val_accuracy: 0.7273 - val_loss: 0.6406\n",
      "Epoch 6/20\n",
      "\u001B[1m4/4\u001B[0m \u001B[32m━━━━━━━━━━━━━━━━━━━━\u001B[0m\u001B[37m\u001B[0m \u001B[1m1s\u001B[0m 301ms/step - accuracy: 0.7500 - loss: 0.5902 - val_accuracy: 0.6364 - val_loss: 0.5766\n",
      "Epoch 7/20\n",
      "\u001B[1m4/4\u001B[0m \u001B[32m━━━━━━━━━━━━━━━━━━━━\u001B[0m\u001B[37m\u001B[0m \u001B[1m1s\u001B[0m 274ms/step - accuracy: 0.6638 - loss: 0.5761 - val_accuracy: 0.8485 - val_loss: 0.4731\n",
      "Epoch 8/20\n",
      "\u001B[1m4/4\u001B[0m \u001B[32m━━━━━━━━━━━━━━━━━━━━\u001B[0m\u001B[37m\u001B[0m \u001B[1m1s\u001B[0m 276ms/step - accuracy: 0.7759 - loss: 0.5031 - val_accuracy: 0.6970 - val_loss: 0.5172\n",
      "Epoch 9/20\n",
      "\u001B[1m4/4\u001B[0m \u001B[32m━━━━━━━━━━━━━━━━━━━━\u001B[0m\u001B[37m\u001B[0m \u001B[1m1s\u001B[0m 330ms/step - accuracy: 0.6983 - loss: 0.4714 - val_accuracy: 0.8485 - val_loss: 0.4742\n",
      "Epoch 10/20\n",
      "\u001B[1m4/4\u001B[0m \u001B[32m━━━━━━━━━━━━━━━━━━━━\u001B[0m\u001B[37m\u001B[0m \u001B[1m1s\u001B[0m 305ms/step - accuracy: 0.8707 - loss: 0.4293 - val_accuracy: 0.8485 - val_loss: 0.3897\n",
      "Epoch 11/20\n",
      "\u001B[1m4/4\u001B[0m \u001B[32m━━━━━━━━━━━━━━━━━━━━\u001B[0m\u001B[37m\u001B[0m \u001B[1m1s\u001B[0m 326ms/step - accuracy: 0.8621 - loss: 0.3671 - val_accuracy: 0.8788 - val_loss: 0.3298\n",
      "Epoch 12/20\n",
      "\u001B[1m4/4\u001B[0m \u001B[32m━━━━━━━━━━━━━━━━━━━━\u001B[0m\u001B[37m\u001B[0m \u001B[1m1s\u001B[0m 282ms/step - accuracy: 0.8966 - loss: 0.2989 - val_accuracy: 0.9697 - val_loss: 0.1450\n",
      "Epoch 13/20\n",
      "\u001B[1m4/4\u001B[0m \u001B[32m━━━━━━━━━━━━━━━━━━━━\u001B[0m\u001B[37m\u001B[0m \u001B[1m1s\u001B[0m 269ms/step - accuracy: 0.9224 - loss: 0.2467 - val_accuracy: 0.9091 - val_loss: 0.2345\n",
      "Epoch 14/20\n",
      "\u001B[1m4/4\u001B[0m \u001B[32m━━━━━━━━━━━━━━━━━━━━\u001B[0m\u001B[37m\u001B[0m \u001B[1m1s\u001B[0m 251ms/step - accuracy: 0.9828 - loss: 0.1119 - val_accuracy: 1.0000 - val_loss: 0.0838\n",
      "Epoch 15/20\n",
      "\u001B[1m4/4\u001B[0m \u001B[32m━━━━━━━━━━━━━━━━━━━━\u001B[0m\u001B[37m\u001B[0m \u001B[1m1s\u001B[0m 314ms/step - accuracy: 0.9655 - loss: 0.1714 - val_accuracy: 0.9091 - val_loss: 0.1793\n",
      "Epoch 16/20\n",
      "\u001B[1m4/4\u001B[0m \u001B[32m━━━━━━━━━━━━━━━━━━━━\u001B[0m\u001B[37m\u001B[0m \u001B[1m1s\u001B[0m 270ms/step - accuracy: 0.9569 - loss: 0.1516 - val_accuracy: 1.0000 - val_loss: 0.0711\n",
      "Epoch 17/20\n",
      "\u001B[1m4/4\u001B[0m \u001B[32m━━━━━━━━━━━━━━━━━━━━\u001B[0m\u001B[37m\u001B[0m \u001B[1m1s\u001B[0m 293ms/step - accuracy: 0.9914 - loss: 0.0883 - val_accuracy: 0.9697 - val_loss: 0.0898\n",
      "Epoch 18/20\n",
      "\u001B[1m4/4\u001B[0m \u001B[32m━━━━━━━━━━━━━━━━━━━━\u001B[0m\u001B[37m\u001B[0m \u001B[1m1s\u001B[0m 293ms/step - accuracy: 0.9569 - loss: 0.0954 - val_accuracy: 1.0000 - val_loss: 0.0494\n",
      "Epoch 19/20\n",
      "\u001B[1m4/4\u001B[0m \u001B[32m━━━━━━━━━━━━━━━━━━━━\u001B[0m\u001B[37m\u001B[0m \u001B[1m1s\u001B[0m 315ms/step - accuracy: 0.9828 - loss: 0.0729 - val_accuracy: 0.9697 - val_loss: 0.0788\n",
      "Epoch 20/20\n",
      "\u001B[1m4/4\u001B[0m \u001B[32m━━━━━━━━━━━━━━━━━━━━\u001B[0m\u001B[37m\u001B[0m \u001B[1m1s\u001B[0m 304ms/step - accuracy: 0.9914 - loss: 0.0618 - val_accuracy: 1.0000 - val_loss: 0.0477\n"
     ]
    }
   ],
   "execution_count": 23
  },
  {
   "metadata": {
    "ExecuteTime": {
     "end_time": "2025-09-17T20:36:02.790307Z",
     "start_time": "2025-09-17T20:36:02.733753Z"
    }
   },
   "cell_type": "code",
   "source": [
    "plt.plot(hist.history['loss'], label='loss')\n",
    "plt.plot(hist.history['val_loss'], label='val_loss')\n",
    "plt.legend()\n",
    "plt.show()"
   ],
   "id": "d61ab475e5c7ee32",
   "outputs": [
    {
     "data": {
      "text/plain": [
       "<Figure size 640x480 with 1 Axes>"
      ],
      "image/png": "[encoded data removed]"
     },
     "metadata": {},
     "output_type": "display_data"
    }
   ],
   "execution_count": 24
  },
  {
   "metadata": {
    "ExecuteTime": {
     "end_time": "2025-09-17T20:36:02.844413Z",
     "start_time": "2025-09-17T20:36:02.797886Z"
    }
   },
   "cell_type": "code",
   "source": [
    "plt.plot(hist.history['accuracy'], label='accuracy')\n",
    "plt.plot(hist.history['val_accuracy'], label='val_accuracy')\n",
    "plt.legend()\n",
    "plt.show()"
   ],
   "id": "8c32ee551f87a83c",
   "outputs": [
    {
     "data": {
      "text/plain": [
       "<Figure size 640x480 with 1 Axes>"
      ],
      "image/png": "[encoded data removed]"
     },
     "metadata": {},
     "output_type": "display_data"
    }
   ],
   "execution_count": 25
  },
  {
   "metadata": {
    "ExecuteTime": {
     "end_time": "2025-09-17T20:36:02.853827Z",
     "start_time": "2025-09-17T20:36:02.851347Z"
    }
   },
   "cell_type": "code",
   "source": "from tensorflow.keras.metrics import Precision, Recall, BinaryAccuracy",
   "id": "e7d7cc06dc08eb02",
   "outputs": [],
   "execution_count": 26
  },
  {
   "metadata": {
    "ExecuteTime": {
     "end_time": "2025-09-17T20:36:02.895220Z",
     "start_time": "2025-09-17T20:36:02.889014Z"
    }
   },
   "cell_type": "code",
   "source": [
    "precision = Precision()\n",
    "recall = Recall()\n",
    "accuracy = BinaryAccuracy()"
   ],
   "id": "256230b81cf61c68",
   "outputs": [],
   "execution_count": 27
  },
  {
   "metadata": {
    "ExecuteTime": {
     "end_time": "2025-09-17T20:36:03.578486Z",
     "start_time": "2025-09-17T20:36:02.911271Z"
    }
   },
   "cell_type": "code",
   "source": [
    "for batch in test.as_numpy_iterator():\n",
    "    X, y = batch\n",
    "    yhat = model.predict(X)\n",
    "    precision.update_state(y, yhat)\n",
    "    recall.update_state(y, yhat)\n",
    "    accuracy.update_state(y, yhat)"
   ],
   "id": "176ba21b45c93f9a",
   "outputs": [
    {
     "name": "stdout",
     "output_type": "stream",
     "text": [
      "\u001B[1m1/1\u001B[0m \u001B[32m━━━━━━━━━━━━━━━━━━━━\u001B[0m\u001B[37m\u001B[0m \u001B[1m0s\u001B[0m 54ms/step\n"
     ]
    }
   ],
   "execution_count": 28
  },
  {
   "metadata": {
    "ExecuteTime": {
     "end_time": "2025-09-17T20:36:03.595679Z",
     "start_time": "2025-09-17T20:36:03.590310Z"
    }
   },
   "cell_type": "code",
   "source": "print(f'Precision:{precision.result().numpy()}, Recall:{recall.result().numpy()}, Accuracy:{accuracy.result().numpy()}')",
   "id": "8ab3230479d4a52b",
   "outputs": [
    {
     "name": "stdout",
     "output_type": "stream",
     "text": [
      "Precision:1.0, Recall:1.0, Accuracy:1.0\n"
     ]
    }
   ],
   "execution_count": 29
  },
  {
   "metadata": {
    "ExecuteTime": {
     "end_time": "2025-09-17T20:36:03.621504Z",
     "start_time": "2025-09-17T20:36:03.610299Z"
    }
   },
   "cell_type": "code",
   "source": [
    "img = cv2.imread('img.png')\n",
    "# plt.imshow(img)\n",
    "# plt.show()"
   ],
   "id": "f8ad828e673f5758",
   "outputs": [],
   "execution_count": 30
  },
  {
   "metadata": {
    "ExecuteTime": {
     "end_time": "2025-09-17T20:36:03.637149Z",
     "start_time": "2025-09-17T20:36:03.631437Z"
    }
   },
   "cell_type": "code",
   "source": [
    "resize = tf.image.resize(img, (256,256))\n",
    "# plt.imshow(img)"
   ],
   "id": "8d58b8f1f2ade0fd",
   "outputs": [],
   "execution_count": 31
  },
  {
   "metadata": {
    "ExecuteTime": {
     "end_time": "2025-09-17T20:36:03.658991Z",
     "start_time": "2025-09-17T20:36:03.656588Z"
    }
   },
   "cell_type": "code",
   "source": "np.expand_dims(resize,0).shape",
   "id": "acb605bb0871400b",
   "outputs": [
    {
     "data": {
      "text/plain": [
       "(1, 256, 256, 3)"
      ]
     },
     "execution_count": 32,
     "metadata": {},
     "output_type": "execute_result"
    }
   ],
   "execution_count": 32
  },
  {
   "metadata": {
    "ExecuteTime": {
     "end_time": "2025-09-17T20:36:03.689368Z",
     "start_time": "2025-09-17T20:36:03.686852Z"
    }
   },
   "cell_type": "code",
   "source": "# yhat",
   "id": "596a6af4320b5316",
   "outputs": [
    {
     "data": {
      "text/plain": [
       "array([[9.9600911e-01],\n",
       "       [9.5763415e-01],\n",
       "       [9.7492886e-01],\n",
       "       [9.9957293e-01],\n",
       "       [9.7188646e-01],\n",
       "       [9.9686736e-01],\n",
       "       [9.2820573e-04],\n",
       "       [7.7239096e-02],\n",
       "       [9.0276903e-01],\n",
       "       [9.6665043e-01],\n",
       "       [5.4584213e-02],\n",
       "       [9.6780431e-01],\n",
       "       [9.9993497e-01],\n",
       "       [9.9997401e-01],\n",
       "       [9.7402984e-01],\n",
       "       [2.2298032e-05],\n",
       "       [4.7991212e-04]], dtype=float32)"
      ]
     },
     "execution_count": 33,
     "metadata": {},
     "output_type": "execute_result"
    }
   ],
   "execution_count": 33
  },
  {
   "metadata": {
    "ExecuteTime": {
     "end_time": "2025-09-17T20:36:04.149870Z",
     "start_time": "2025-09-17T20:36:03.718833Z"
    }
   },
   "cell_type": "code",
   "source": [
    "# if yhat > 0.5:\n",
    "#     print(f'Predicted class is Sad')\n",
    "# else:\n",
    "#     print(f'Predicted class is Happy')\n"
   ],
   "id": "76ac72cdaf516ce",
   "outputs": [
    {
     "ename": "ValueError",
     "evalue": "The truth value of an array with more than one element is ambiguous. Use a.any() or a.all()",
     "output_type": "error",
     "traceback": [
      "\u001B[31m---------------------------------------------------------------------------\u001B[39m",
      "\u001B[31mValueError\u001B[39m                                Traceback (most recent call last)",
      "\u001B[36mCell\u001B[39m\u001B[36m \u001B[39m\u001B[32mIn[34]\u001B[39m\u001B[32m, line 1\u001B[39m\n\u001B[32m----> \u001B[39m\u001B[32m1\u001B[39m \u001B[38;5;28;01mif\u001B[39;00m \u001B[43myhat\u001B[49m\u001B[43m \u001B[49m\u001B[43m>\u001B[49m\u001B[43m \u001B[49m\u001B[32;43m0.5\u001B[39;49m:\n\u001B[32m      2\u001B[39m     \u001B[38;5;28mprint\u001B[39m(\u001B[33mf\u001B[39m\u001B[33m'\u001B[39m\u001B[33mPredicted class is Sad\u001B[39m\u001B[33m'\u001B[39m)\n\u001B[32m      3\u001B[39m \u001B[38;5;28;01melse\u001B[39;00m:\n",
      "\u001B[31mValueError\u001B[39m: The truth value of an array with more than one element is ambiguous. Use a.any() or a.all()"
     ]
    }
   ],
   "execution_count": 34
  },
  {
   "metadata": {
    "ExecuteTime": {
     "end_time": "2025-09-17T20:36:04.158850100Z",
     "start_time": "2025-09-16T19:02:28.040559Z"
    }
   },
   "cell_type": "code",
   "outputs": [
    {
     "name": "stdout",
     "output_type": "stream",
     "text": [
      "\u001B[1m1/1\u001B[0m \u001B[32m━━━━━━━━━━━━━━━━━━━━\u001B[0m\u001B[37m\u001B[0m \u001B[1m0s\u001B[0m 43ms/step\n"
     ]
    }
   ],
   "execution_count": 21,
   "source": "# yhat = model.predict(np.expand_dims(resize/255, 0))",
   "id": "6682bb4da12b35d9"
  }
 ],
 "metadata": {
  "kernelspec": {
   "display_name": "Python 3",
   "language": "python",
   "name": "python3"
  },
  "language_info": {
   "codemirror_mode": {
    "name": "ipython",
    "version": 2
   },
   "file_extension": ".py",
   "mimetype": "text/x-python",
   "name": "python",
   "nbconvert_exporter": "python",
   "pygments_lexer": "ipython2",
   "version": "2.7.6"
  }
 },
 "nbformat": 4,
 "nbformat_minor": 5
}
